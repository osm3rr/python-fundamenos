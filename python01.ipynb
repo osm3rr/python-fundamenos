{
 "cells": [
  {
   "cell_type": "markdown",
   "id": "97a375fd",
   "metadata": {},
   "source": [
    "### Python fundamentos\n",
    "* Variables\n",
    "* Tipos de datos\n",
    "    - Strings\n",
    "    - Enteros\n",
    "    - Flotantes\n",
    "    - Listas\n",
    "    - Diccionarios\n",
    "    - Tuplas\n",
    "* Operadores\n",
    "    - Matemáticos\n",
    "    - Comparación\n",
    "    - Lógicos\n",
    "* Estructuras de control\n",
    "    - Condicionales\n",
    "    - Ciclos finitos\n",
    "    - Funciones\n"
   ]
  },
  {
   "cell_type": "code",
   "execution_count": 4,
   "id": "f10012fd",
   "metadata": {},
   "outputs": [],
   "source": [
    "# variables\n",
    "name = \"Ada\"\n",
    "age = 30\n"
   ]
  },
  {
   "cell_type": "code",
   "execution_count": 3,
   "id": "728b73be",
   "metadata": {},
   "outputs": [
    {
     "data": {
      "text/plain": [
       "'Ada'"
      ]
     },
     "execution_count": 3,
     "metadata": {},
     "output_type": "execute_result"
    }
   ],
   "source": [
    "name"
   ]
  },
  {
   "cell_type": "code",
   "execution_count": null,
   "id": "05bf3785",
   "metadata": {},
   "outputs": [],
   "source": [
    "last_name = \"Amarillo\""
   ]
  },
  {
   "cell_type": "code",
   "execution_count": 5,
   "id": "2473f0b4",
   "metadata": {},
   "outputs": [],
   "source": [
    "LastName = \"Amarillo\""
   ]
  },
  {
   "cell_type": "code",
   "execution_count": 6,
   "id": "673af3d6",
   "metadata": {},
   "outputs": [],
   "source": [
    "Lastname = \"Amarillo\""
   ]
  },
  {
   "cell_type": "code",
   "execution_count": 7,
   "id": "8e8f5a9e",
   "metadata": {},
   "outputs": [],
   "source": [
    "LASTNAME = \"Amarillo\""
   ]
  },
  {
   "cell_type": "code",
   "execution_count": 8,
   "id": "e3ce7b9d",
   "metadata": {},
   "outputs": [
    {
     "ename": "NameError",
     "evalue": "name 'last' is not defined",
     "output_type": "error",
     "traceback": [
      "\u001b[31m---------------------------------------------------------------------------\u001b[39m",
      "\u001b[31mNameError\u001b[39m                                 Traceback (most recent call last)",
      "\u001b[36mCell\u001b[39m\u001b[36m \u001b[39m\u001b[32mIn[8]\u001b[39m\u001b[32m, line 1\u001b[39m\n\u001b[32m----> \u001b[39m\u001b[32m1\u001b[39m \u001b[43mlast\u001b[49m.name = \u001b[33m\"\u001b[39m\u001b[33mAmarillo\u001b[39m\u001b[33m\"\u001b[39m\n",
      "\u001b[31mNameError\u001b[39m: name 'last' is not defined"
     ]
    }
   ],
   "source": [
    "last.name = \"Amarillo\""
   ]
  },
  {
   "cell_type": "code",
   "execution_count": 9,
   "id": "fa02d1c5",
   "metadata": {},
   "outputs": [
    {
     "ename": "SyntaxError",
     "evalue": "cannot assign to expression here. Maybe you meant '==' instead of '='? (824550936.py, line 1)",
     "output_type": "error",
     "traceback": [
      "  \u001b[36mCell\u001b[39m\u001b[36m \u001b[39m\u001b[32mIn[9]\u001b[39m\u001b[32m, line 1\u001b[39m\n\u001b[31m    \u001b[39m\u001b[31mlast-name = \"Amarillo\"\u001b[39m\n    ^\n\u001b[31mSyntaxError\u001b[39m\u001b[31m:\u001b[39m cannot assign to expression here. Maybe you meant '==' instead of '='?\n"
     ]
    }
   ],
   "source": [
    "last-name = \"Amarillo\""
   ]
  },
  {
   "cell_type": "code",
   "execution_count": 10,
   "id": "a06dea20",
   "metadata": {},
   "outputs": [
    {
     "data": {
      "text/plain": [
       "'Ada'"
      ]
     },
     "execution_count": 10,
     "metadata": {},
     "output_type": "execute_result"
    }
   ],
   "source": [
    "name"
   ]
  },
  {
   "cell_type": "code",
   "execution_count": 14,
   "id": "f9409816",
   "metadata": {},
   "outputs": [],
   "source": [
    "name = \"Amarillo\""
   ]
  },
  {
   "cell_type": "code",
   "execution_count": 12,
   "id": "5295b81c",
   "metadata": {},
   "outputs": [
    {
     "data": {
      "text/plain": [
       "'Amarillo'"
      ]
     },
     "execution_count": 12,
     "metadata": {},
     "output_type": "execute_result"
    }
   ],
   "source": [
    "name"
   ]
  },
  {
   "cell_type": "code",
   "execution_count": 15,
   "id": "9a227bb3",
   "metadata": {},
   "outputs": [],
   "source": [
    "# operadares matemáticos\n",
    "number1 = 10\n",
    "number2 = 5\n",
    "\n",
    "result_sum = number1 + number2\n",
    "result_subtraction = number1 - number2  \n",
    "result_multiplication = number1 * number2\n",
    "result_division = number1 / number2"
   ]
  },
  {
   "cell_type": "code",
   "execution_count": 16,
   "id": "f415b419",
   "metadata": {},
   "outputs": [
    {
     "data": {
      "text/plain": [
       "2.0"
      ]
     },
     "execution_count": 16,
     "metadata": {},
     "output_type": "execute_result"
    }
   ],
   "source": [
    "result_division"
   ]
  },
  {
   "cell_type": "code",
   "execution_count": 18,
   "id": "d6667863",
   "metadata": {},
   "outputs": [
    {
     "name": "stdout",
     "output_type": "stream",
     "text": [
      "15\n",
      "5\n",
      "50\n",
      "2.0\n"
     ]
    }
   ],
   "source": [
    "print(result_sum)\n",
    "print(result_subtraction)\n",
    "print(result_multiplication)    \n",
    "print(result_division)"
   ]
  },
  {
   "cell_type": "code",
   "execution_count": 20,
   "id": "d997e596",
   "metadata": {},
   "outputs": [
    {
     "name": "stdout",
     "output_type": "stream",
     "text": [
      "El resultado de la suma es: 15\n",
      "El resultado de la resta es: 5\n",
      "El resultado de la multiplicación es: 50\n",
      "El resultado de la división es: 2.0\n"
     ]
    }
   ],
   "source": [
    "print(f\"El resultado de la suma es: {result_sum}\")\n",
    "print(f\"El resultado de la resta es: {result_subtraction}\")\n",
    "print(f\"El resultado de la multiplicación es: {result_multiplication}\")\n",
    "print(f\"El resultado de la división es: {result_division}\")"
   ]
  },
  {
   "cell_type": "code",
   "execution_count": 1,
   "id": "4aae5078",
   "metadata": {},
   "outputs": [],
   "source": [
    "# operadores de comparación\n",
    "# Comparación de igualdad ==\n",
    "# Comparación de desigualdad !=\n",
    "# Comparación mayor que >   \n",
    "# Comparación menor que <\n",
    "# Comparación mayor o igual que >=  \n",
    "# Comparación menor o igual que <=\n"
   ]
  },
  {
   "cell_type": "code",
   "execution_count": 2,
   "id": "08958ee0",
   "metadata": {},
   "outputs": [
    {
     "data": {
      "text/plain": [
       "True"
      ]
     },
     "execution_count": 2,
     "metadata": {},
     "output_type": "execute_result"
    }
   ],
   "source": [
    "3 == 3"
   ]
  },
  {
   "cell_type": "code",
   "execution_count": 3,
   "id": "5fd0a3d0",
   "metadata": {},
   "outputs": [
    {
     "data": {
      "text/plain": [
       "False"
      ]
     },
     "execution_count": 3,
     "metadata": {},
     "output_type": "execute_result"
    }
   ],
   "source": [
    "3 != 3"
   ]
  },
  {
   "cell_type": "code",
   "execution_count": null,
   "id": "7da0d42b",
   "metadata": {},
   "outputs": [],
   "source": [
    "# condiocionales simples\n",
    "# if condicional:\n",
    "#    código a ejecutar si la condición es verdadera"
   ]
  },
  {
   "cell_type": "code",
   "execution_count": 4,
   "id": "188dbe0f",
   "metadata": {},
   "outputs": [
    {
     "name": "stdout",
     "output_type": "stream",
     "text": [
      "La condición es verdadera\n"
     ]
    }
   ],
   "source": [
    "# condicional simple\n",
    "if 3 == 3:\n",
    "    print(\"La condición es verdadera\")"
   ]
  },
  {
   "cell_type": "code",
   "execution_count": null,
   "id": "ff68baca",
   "metadata": {},
   "outputs": [
    {
     "name": "stdout",
     "output_type": "stream",
     "text": [
      "Hoy es lunes\n"
     ]
    }
   ],
   "source": [
    "day = \"Lunes\"\n",
    "\n",
    "if day == \"Lunes\":\n",
    "    print(\"Hoy es lunes\")"
   ]
  },
  {
   "cell_type": "code",
   "execution_count": 6,
   "id": "572820d9",
   "metadata": {},
   "outputs": [],
   "source": [
    "day = \"lunes\"\n",
    "\n",
    "if day == \"Lunes\":\n",
    "    print(\"Hoy es lunes\")"
   ]
  },
  {
   "cell_type": "code",
   "execution_count": 10,
   "id": "9c3cba95",
   "metadata": {},
   "outputs": [
    {
     "name": "stdout",
     "output_type": "stream",
     "text": [
      "Hoy no es lunes\n"
     ]
    }
   ],
   "source": [
    "day = input(\"Ingrese el día de la semana: \")\n",
    "\n",
    "if day == \"Lunes\":\n",
    "    print(\"Hoy es lunes\")\n",
    "else:\n",
    "    print(\"Hoy no es lunes\")"
   ]
  },
  {
   "cell_type": "code",
   "execution_count": 12,
   "id": "dded5d70",
   "metadata": {},
   "outputs": [
    {
     "name": "stdout",
     "output_type": "stream",
     "text": [
      "Hoy es domingo\n"
     ]
    }
   ],
   "source": [
    "# condicionales encadenados para el fin de semana\n",
    "day = input(\"Ingrese el día de la semana: \")\n",
    "\n",
    "if day == \"sábado\":\n",
    "    print(\"Hoy es sábado\")\n",
    "elif day == \"domingo\":\n",
    "    print(\"Hoy es domingo\")\n",
    "else:\n",
    "    print(\"Hoy no es sábado ni domingo\")\n",
    "\n"
   ]
  },
  {
   "cell_type": "code",
   "execution_count": 13,
   "id": "4ce3ba47",
   "metadata": {},
   "outputs": [
    {
     "name": "stdout",
     "output_type": "stream",
     "text": [
      "tengo que ir a clases\n"
     ]
    }
   ],
   "source": [
    "# condicionales anidados\n",
    "day = input(\"Ingrese el día de la semana: \")\n",
    "hora = input(\"Ingrese la hora (formato HH:MM): \")\n",
    "\n",
    "if day == \"sábado\":\n",
    "    if hora == \"03:00\":\n",
    "        print(\"tengo que ir a clases\")"
   ]
  },
  {
   "cell_type": "code",
   "execution_count": 14,
   "id": "e06f303c",
   "metadata": {},
   "outputs": [
    {
     "name": "stdout",
     "output_type": "stream",
     "text": [
      "No es sábado, no tengo clases\n"
     ]
    }
   ],
   "source": [
    "# condicionales anidados\n",
    "day = input(\"Ingrese el día de la semana: \")\n",
    "hora = input(\"Ingrese la hora (formato HH:MM): \")\n",
    "\n",
    "if day == \"sábado\":\n",
    "    if hora == \"03:00\":\n",
    "        print(\"tengo que ir a clases\")\n",
    "    else:\n",
    "        print(\"No tengo clases a esa hora\")\n",
    "else:\n",
    "    print(\"No es sábado, no tengo clases\")"
   ]
  },
  {
   "cell_type": "code",
   "execution_count": 15,
   "id": "3395152f",
   "metadata": {},
   "outputs": [
    {
     "name": "stdout",
     "output_type": "stream",
     "text": [
      "No es sábado, no tengo clases\n"
     ]
    }
   ],
   "source": [
    "# condicionales anidados\n",
    "day = input(\"Ingrese el día de la semana: \")\n",
    "\n",
    "if day == \"sábado\":\n",
    "    hora = input(\"Ingrese la hora (formato HH:MM): \")\n",
    "    if hora == \"03:00\":\n",
    "        print(\"tengo que ir a clases\")\n",
    "    else:\n",
    "        print(\"No tengo clases a esa hora\")\n",
    "else:\n",
    "    print(\"No es sábado, no tengo clases\")"
   ]
  },
  {
   "cell_type": "code",
   "execution_count": 16,
   "id": "75ed3934",
   "metadata": {},
   "outputs": [],
   "source": [
    "# operadores lógicos\n",
    "# and (y)\n",
    "# or (o)\n",
    "# not (no)"
   ]
  },
  {
   "cell_type": "code",
   "execution_count": 19,
   "id": "1b827c1d",
   "metadata": {},
   "outputs": [
    {
     "name": "stdout",
     "output_type": "stream",
     "text": [
      "Hoy es sábado y tengo clases\n"
     ]
    }
   ],
   "source": [
    "# condicionales anidados\n",
    "day = input(\"Ingrese el día de la semana: \")\n",
    "hora = input(\"Ingrese la hora (formato HH:MM): \")\n",
    "\n",
    "if (day == \"sábado\") and (hora == \"03:00\"):\n",
    "    print(\"Hoy es sábado y tengo clases\")\n",
    "    "
   ]
  },
  {
   "cell_type": "code",
   "execution_count": 20,
   "id": "3a064a3e",
   "metadata": {},
   "outputs": [
    {
     "data": {
      "text/plain": [
       "True"
      ]
     },
     "execution_count": 20,
     "metadata": {},
     "output_type": "execute_result"
    }
   ],
   "source": [
    "True and True"
   ]
  },
  {
   "cell_type": "code",
   "execution_count": 21,
   "id": "c943c1db",
   "metadata": {},
   "outputs": [
    {
     "data": {
      "text/plain": [
       "False"
      ]
     },
     "execution_count": 21,
     "metadata": {},
     "output_type": "execute_result"
    }
   ],
   "source": [
    "True and False"
   ]
  },
  {
   "cell_type": "code",
   "execution_count": 23,
   "id": "7b92df9d",
   "metadata": {},
   "outputs": [],
   "source": [
    "# listas\n",
    "names = [\"jose\", \"maria\", \"pedro\"]\n",
    "ages = [20, 30, 25]\n",
    "pesos = [60.5, 70.2, 65.0]"
   ]
  },
  {
   "cell_type": "code",
   "execution_count": null,
   "id": "22614c9f",
   "metadata": {},
   "outputs": [],
   "source": [
    "#            0123456\n",
    "#             ...-2-1\n",
    "last_name = \"Amarillo\""
   ]
  },
  {
   "cell_type": "code",
   "execution_count": 25,
   "id": "d196f640",
   "metadata": {},
   "outputs": [
    {
     "data": {
      "text/plain": [
       "'amarillo'"
      ]
     },
     "execution_count": 25,
     "metadata": {},
     "output_type": "execute_result"
    }
   ],
   "source": [
    "last_name.lower()"
   ]
  },
  {
   "cell_type": "code",
   "execution_count": 26,
   "id": "833f8103",
   "metadata": {},
   "outputs": [
    {
     "data": {
      "text/plain": [
       "'a'"
      ]
     },
     "execution_count": 26,
     "metadata": {},
     "output_type": "execute_result"
    }
   ],
   "source": [
    "last_name[2]"
   ]
  },
  {
   "cell_type": "code",
   "execution_count": 27,
   "id": "5d69851b",
   "metadata": {},
   "outputs": [
    {
     "data": {
      "text/plain": [
       "'Ama'"
      ]
     },
     "execution_count": 27,
     "metadata": {},
     "output_type": "execute_result"
    }
   ],
   "source": [
    "last_name[0:3]"
   ]
  },
  {
   "cell_type": "code",
   "execution_count": 28,
   "id": "48ba12e0",
   "metadata": {},
   "outputs": [
    {
     "data": {
      "text/plain": [
       "'Amari'"
      ]
     },
     "execution_count": 28,
     "metadata": {},
     "output_type": "execute_result"
    }
   ],
   "source": [
    "last_name[:5]"
   ]
  },
  {
   "cell_type": "code",
   "execution_count": 29,
   "id": "494e4e2d",
   "metadata": {},
   "outputs": [
    {
     "data": {
      "text/plain": [
       "'A'"
      ]
     },
     "execution_count": 29,
     "metadata": {},
     "output_type": "execute_result"
    }
   ],
   "source": [
    "last_name[0]"
   ]
  },
  {
   "cell_type": "code",
   "execution_count": 30,
   "id": "79153201",
   "metadata": {},
   "outputs": [
    {
     "data": {
      "text/plain": [
       "'o'"
      ]
     },
     "execution_count": 30,
     "metadata": {},
     "output_type": "execute_result"
    }
   ],
   "source": [
    "last_name[-1]"
   ]
  },
  {
   "cell_type": "code",
   "execution_count": 31,
   "id": "f1898bdd",
   "metadata": {},
   "outputs": [
    {
     "data": {
      "text/plain": [
       "'jose'"
      ]
     },
     "execution_count": 31,
     "metadata": {},
     "output_type": "execute_result"
    }
   ],
   "source": [
    "names[0]"
   ]
  },
  {
   "cell_type": "code",
   "execution_count": 35,
   "id": "bab6c5d1",
   "metadata": {},
   "outputs": [
    {
     "data": {
      "text/plain": [
       "['jose', 'maria']"
      ]
     },
     "execution_count": 35,
     "metadata": {},
     "output_type": "execute_result"
    }
   ],
   "source": [
    "names[0:2]"
   ]
  },
  {
   "cell_type": "code",
   "execution_count": 41,
   "id": "716ab30e",
   "metadata": {},
   "outputs": [],
   "source": [
    "names = [\n",
    "    \"jose\",\n",
    "    \"maria\",\n",
    "    \"pedro\",\n",
    "    \"ana\",\n",
    "    \"luis\",\n",
    "    \"carlos\",\n",
    "    ]"
   ]
  },
  {
   "cell_type": "code",
   "execution_count": 37,
   "id": "4f7d9b15",
   "metadata": {},
   "outputs": [],
   "source": [
    "names.append(\"juan\")"
   ]
  },
  {
   "cell_type": "code",
   "execution_count": 43,
   "id": "a87efdbf",
   "metadata": {},
   "outputs": [
    {
     "data": {
      "text/plain": [
       "['jose', 'maria', 'pedro', 'ana', 'luis', 'carlos']"
      ]
     },
     "execution_count": 43,
     "metadata": {},
     "output_type": "execute_result"
    }
   ],
   "source": [
    "names"
   ]
  },
  {
   "cell_type": "code",
   "execution_count": null,
   "id": "0db9cc4b",
   "metadata": {},
   "outputs": [],
   "source": [
    "# tuplas\n",
    "# Las tuplas son similares a las listas, pero son inmutables (no se pueden modificar una vez creadas).\n"
   ]
  },
  {
   "cell_type": "code",
   "execution_count": 44,
   "id": "70fb0c31",
   "metadata": {},
   "outputs": [
    {
     "data": {
      "text/plain": [
       "6"
      ]
     },
     "execution_count": 44,
     "metadata": {},
     "output_type": "execute_result"
    }
   ],
   "source": [
    "len(names)"
   ]
  },
  {
   "cell_type": "code",
   "execution_count": 45,
   "id": "8334d305",
   "metadata": {},
   "outputs": [],
   "source": [
    "names.insert(1, \"ruperto\")"
   ]
  },
  {
   "cell_type": "code",
   "execution_count": 46,
   "id": "f131a7b1",
   "metadata": {},
   "outputs": [
    {
     "data": {
      "text/plain": [
       "['jose', 'ruperto', 'maria', 'pedro', 'ana', 'luis', 'carlos']"
      ]
     },
     "execution_count": 46,
     "metadata": {},
     "output_type": "execute_result"
    }
   ],
   "source": [
    "names"
   ]
  },
  {
   "cell_type": "code",
   "execution_count": 47,
   "id": "03c30f0f",
   "metadata": {},
   "outputs": [],
   "source": [
    "# cambia el nombre de la posición 1 por marta\n",
    "names[1] = \"marta\""
   ]
  },
  {
   "cell_type": "code",
   "execution_count": 48,
   "id": "9b693dcf",
   "metadata": {},
   "outputs": [
    {
     "data": {
      "text/plain": [
       "['jose', 'marta', 'maria', 'pedro', 'ana', 'luis', 'carlos']"
      ]
     },
     "execution_count": 48,
     "metadata": {},
     "output_type": "execute_result"
    }
   ],
   "source": [
    "names"
   ]
  },
  {
   "cell_type": "code",
   "execution_count": 53,
   "id": "bbbdaa41",
   "metadata": {},
   "outputs": [],
   "source": [
    "# tupla de nombres\n",
    "names_tuple = (\n",
    "                \"jose\",\n",
    "                \"maria\",\n",
    "                \"pedro\",\n",
    "                \"ana\")"
   ]
  },
  {
   "cell_type": "code",
   "execution_count": 51,
   "id": "aa8b249d",
   "metadata": {},
   "outputs": [
    {
     "ename": "TypeError",
     "evalue": "'tuple' object does not support item assignment",
     "output_type": "error",
     "traceback": [
      "\u001b[31m---------------------------------------------------------------------------\u001b[39m",
      "\u001b[31mTypeError\u001b[39m                                 Traceback (most recent call last)",
      "\u001b[36mCell\u001b[39m\u001b[36m \u001b[39m\u001b[32mIn[51]\u001b[39m\u001b[32m, line 1\u001b[39m\n\u001b[32m----> \u001b[39m\u001b[32m1\u001b[39m \u001b[43mnames_tuple\u001b[49m\u001b[43m[\u001b[49m\u001b[32;43m1\u001b[39;49m\u001b[43m]\u001b[49m = \u001b[33m\"\u001b[39m\u001b[33mmarta\u001b[39m\u001b[33m\"\u001b[39m \n",
      "\u001b[31mTypeError\u001b[39m: 'tuple' object does not support item assignment"
     ]
    }
   ],
   "source": [
    "names_tuple[1] = \"marta\" "
   ]
  },
  {
   "cell_type": "code",
   "execution_count": 55,
   "id": "334cb0d2",
   "metadata": {},
   "outputs": [],
   "source": [
    "# tuplas con numeros y caracteres\n",
    "tuple_2 = (20, \"pedro\", 21.7)"
   ]
  },
  {
   "cell_type": "code",
   "execution_count": 57,
   "id": "d8fe724c",
   "metadata": {},
   "outputs": [
    {
     "data": {
      "text/plain": [
       "'pedro'"
      ]
     },
     "execution_count": 57,
     "metadata": {},
     "output_type": "execute_result"
    }
   ],
   "source": [
    "tuple_2[1]"
   ]
  },
  {
   "cell_type": "code",
   "execution_count": 59,
   "id": "4f7094e5",
   "metadata": {},
   "outputs": [],
   "source": [
    "# diccionarios\n",
    "dict1 = {\n",
    "    \"name\":\"jose\",\n",
    "    \"age\":20,\n",
    "    \"peso\":90.89,\n",
    "    \"comidas\":[\"pabellon\", \"arepa\", \"arroz\"],\n",
    "    \"claves\": {\n",
    "                \"correo\":12345,\n",
    "               \"netflix\":\"clave\",\n",
    "               }\n",
    "}"
   ]
  },
  {
   "cell_type": "code",
   "execution_count": 62,
   "id": "035df100",
   "metadata": {},
   "outputs": [
    {
     "data": {
      "text/plain": [
       "12345"
      ]
     },
     "execution_count": 62,
     "metadata": {},
     "output_type": "execute_result"
    }
   ],
   "source": [
    "dict1[\"claves\"][\"correo\"]"
   ]
  },
  {
   "cell_type": "code",
   "execution_count": 63,
   "id": "002b86e0",
   "metadata": {},
   "outputs": [
    {
     "data": {
      "text/plain": [
       "'arepa'"
      ]
     },
     "execution_count": 63,
     "metadata": {},
     "output_type": "execute_result"
    }
   ],
   "source": [
    "dict1[\"comidas\"][1]"
   ]
  },
  {
   "cell_type": "code",
   "execution_count": 64,
   "id": "6044436d",
   "metadata": {},
   "outputs": [
    {
     "name": "stdout",
     "output_type": "stream",
     "text": [
      "jose\n",
      "marta\n",
      "maria\n",
      "pedro\n",
      "ana\n",
      "luis\n",
      "carlos\n"
     ]
    }
   ],
   "source": [
    "# ciclo for\n",
    "for variable in names:\n",
    "    print(variable)\n"
   ]
  },
  {
   "cell_type": "code",
   "execution_count": 67,
   "id": "c6a1d505",
   "metadata": {},
   "outputs": [
    {
     "data": {
      "text/plain": [
       "7"
      ]
     },
     "execution_count": 67,
     "metadata": {},
     "output_type": "execute_result"
    }
   ],
   "source": [
    "len(names)"
   ]
  },
  {
   "cell_type": "code",
   "execution_count": 77,
   "id": "28b991d6",
   "metadata": {},
   "outputs": [
    {
     "name": "stdout",
     "output_type": "stream",
     "text": [
      "Encontre a jose en la posicion 5\n"
     ]
    }
   ],
   "source": [
    "# buscar a jose en el conjunto de datos\n",
    "for name in range(len(names)):\n",
    "    if names[name] == 'luis':\n",
    "        print(f\"Encontre a jose en la posicion {name}\")\n",
    "        break"
   ]
  },
  {
   "cell_type": "code",
   "execution_count": null,
   "id": "98063110",
   "metadata": {},
   "outputs": [],
   "source": []
  },
  {
   "cell_type": "code",
   "execution_count": null,
   "id": "57a805c3",
   "metadata": {},
   "outputs": [],
   "source": []
  },
  {
   "cell_type": "code",
   "execution_count": null,
   "id": "2c37eb03",
   "metadata": {},
   "outputs": [],
   "source": []
  }
 ],
 "metadata": {
  "kernelspec": {
   "display_name": ".venv",
   "language": "python",
   "name": "python3"
  },
  "language_info": {
   "codemirror_mode": {
    "name": "ipython",
    "version": 3
   },
   "file_extension": ".py",
   "mimetype": "text/x-python",
   "name": "python",
   "nbconvert_exporter": "python",
   "pygments_lexer": "ipython3",
   "version": "3.12.6"
  }
 },
 "nbformat": 4,
 "nbformat_minor": 5
}
