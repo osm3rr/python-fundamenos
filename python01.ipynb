{
 "cells": [
  {
   "cell_type": "markdown",
   "id": "97a375fd",
   "metadata": {},
   "source": [
    "### Python fundamentos\n",
    "* Variables\n",
    "* Tipos de datos\n",
    "    - Strings\n",
    "    - Enteros\n",
    "    - Flotantes\n",
    "    - Listas\n",
    "    - Diccionarios\n",
    "    - Tuplas\n",
    "* Operadores\n",
    "    - Matemáticos\n",
    "    - Comparación\n",
    "    - Lógicos\n",
    "* Estructuras de control\n",
    "    - Condicionales\n",
    "    - Ciclos finitos\n",
    "    - Funciones\n"
   ]
  },
  {
   "cell_type": "code",
   "execution_count": 4,
   "id": "f10012fd",
   "metadata": {},
   "outputs": [],
   "source": [
    "# variables\n",
    "name = \"Ada\"\n",
    "age = 30\n"
   ]
  },
  {
   "cell_type": "code",
   "execution_count": 3,
   "id": "728b73be",
   "metadata": {},
   "outputs": [
    {
     "data": {
      "text/plain": [
       "'Ada'"
      ]
     },
     "execution_count": 3,
     "metadata": {},
     "output_type": "execute_result"
    }
   ],
   "source": [
    "name"
   ]
  },
  {
   "cell_type": "code",
   "execution_count": null,
   "id": "05bf3785",
   "metadata": {},
   "outputs": [],
   "source": [
    "last_name = \"Amarillo\""
   ]
  },
  {
   "cell_type": "code",
   "execution_count": 5,
   "id": "2473f0b4",
   "metadata": {},
   "outputs": [],
   "source": [
    "LastName = \"Amarillo\""
   ]
  },
  {
   "cell_type": "code",
   "execution_count": 6,
   "id": "673af3d6",
   "metadata": {},
   "outputs": [],
   "source": [
    "Lastname = \"Amarillo\""
   ]
  },
  {
   "cell_type": "code",
   "execution_count": 7,
   "id": "8e8f5a9e",
   "metadata": {},
   "outputs": [],
   "source": [
    "LASTNAME = \"Amarillo\""
   ]
  },
  {
   "cell_type": "code",
   "execution_count": 8,
   "id": "e3ce7b9d",
   "metadata": {},
   "outputs": [
    {
     "ename": "NameError",
     "evalue": "name 'last' is not defined",
     "output_type": "error",
     "traceback": [
      "\u001b[31m---------------------------------------------------------------------------\u001b[39m",
      "\u001b[31mNameError\u001b[39m                                 Traceback (most recent call last)",
      "\u001b[36mCell\u001b[39m\u001b[36m \u001b[39m\u001b[32mIn[8]\u001b[39m\u001b[32m, line 1\u001b[39m\n\u001b[32m----> \u001b[39m\u001b[32m1\u001b[39m \u001b[43mlast\u001b[49m.name = \u001b[33m\"\u001b[39m\u001b[33mAmarillo\u001b[39m\u001b[33m\"\u001b[39m\n",
      "\u001b[31mNameError\u001b[39m: name 'last' is not defined"
     ]
    }
   ],
   "source": [
    "last.name = \"Amarillo\""
   ]
  },
  {
   "cell_type": "code",
   "execution_count": 9,
   "id": "fa02d1c5",
   "metadata": {},
   "outputs": [
    {
     "ename": "SyntaxError",
     "evalue": "cannot assign to expression here. Maybe you meant '==' instead of '='? (824550936.py, line 1)",
     "output_type": "error",
     "traceback": [
      "  \u001b[36mCell\u001b[39m\u001b[36m \u001b[39m\u001b[32mIn[9]\u001b[39m\u001b[32m, line 1\u001b[39m\n\u001b[31m    \u001b[39m\u001b[31mlast-name = \"Amarillo\"\u001b[39m\n    ^\n\u001b[31mSyntaxError\u001b[39m\u001b[31m:\u001b[39m cannot assign to expression here. Maybe you meant '==' instead of '='?\n"
     ]
    }
   ],
   "source": [
    "last-name = \"Amarillo\""
   ]
  },
  {
   "cell_type": "code",
   "execution_count": 10,
   "id": "a06dea20",
   "metadata": {},
   "outputs": [
    {
     "data": {
      "text/plain": [
       "'Ada'"
      ]
     },
     "execution_count": 10,
     "metadata": {},
     "output_type": "execute_result"
    }
   ],
   "source": [
    "name"
   ]
  },
  {
   "cell_type": "code",
   "execution_count": 14,
   "id": "f9409816",
   "metadata": {},
   "outputs": [],
   "source": [
    "name = \"Amarillo\""
   ]
  },
  {
   "cell_type": "code",
   "execution_count": 12,
   "id": "5295b81c",
   "metadata": {},
   "outputs": [
    {
     "data": {
      "text/plain": [
       "'Amarillo'"
      ]
     },
     "execution_count": 12,
     "metadata": {},
     "output_type": "execute_result"
    }
   ],
   "source": [
    "name"
   ]
  },
  {
   "cell_type": "code",
   "execution_count": 15,
   "id": "9a227bb3",
   "metadata": {},
   "outputs": [],
   "source": [
    "# operadares matemáticos\n",
    "number1 = 10\n",
    "number2 = 5\n",
    "\n",
    "result_sum = number1 + number2\n",
    "result_subtraction = number1 - number2  \n",
    "result_multiplication = number1 * number2\n",
    "result_division = number1 / number2"
   ]
  },
  {
   "cell_type": "code",
   "execution_count": 16,
   "id": "f415b419",
   "metadata": {},
   "outputs": [
    {
     "data": {
      "text/plain": [
       "2.0"
      ]
     },
     "execution_count": 16,
     "metadata": {},
     "output_type": "execute_result"
    }
   ],
   "source": [
    "result_division"
   ]
  },
  {
   "cell_type": "code",
   "execution_count": 18,
   "id": "d6667863",
   "metadata": {},
   "outputs": [
    {
     "name": "stdout",
     "output_type": "stream",
     "text": [
      "15\n",
      "5\n",
      "50\n",
      "2.0\n"
     ]
    }
   ],
   "source": [
    "print(result_sum)\n",
    "print(result_subtraction)\n",
    "print(result_multiplication)    \n",
    "print(result_division)"
   ]
  },
  {
   "cell_type": "code",
   "execution_count": 20,
   "id": "d997e596",
   "metadata": {},
   "outputs": [
    {
     "name": "stdout",
     "output_type": "stream",
     "text": [
      "El resultado de la suma es: 15\n",
      "El resultado de la resta es: 5\n",
      "El resultado de la multiplicación es: 50\n",
      "El resultado de la división es: 2.0\n"
     ]
    }
   ],
   "source": [
    "print(f\"El resultado de la suma es: {result_sum}\")\n",
    "print(f\"El resultado de la resta es: {result_subtraction}\")\n",
    "print(f\"El resultado de la multiplicación es: {result_multiplication}\")\n",
    "print(f\"El resultado de la división es: {result_division}\")"
   ]
  },
  {
   "cell_type": "code",
   "execution_count": null,
   "id": "4aae5078",
   "metadata": {},
   "outputs": [],
   "source": []
  }
 ],
 "metadata": {
  "kernelspec": {
   "display_name": ".venv",
   "language": "python",
   "name": "python3"
  },
  "language_info": {
   "codemirror_mode": {
    "name": "ipython",
    "version": 3
   },
   "file_extension": ".py",
   "mimetype": "text/x-python",
   "name": "python",
   "nbconvert_exporter": "python",
   "pygments_lexer": "ipython3",
   "version": "3.12.6"
  }
 },
 "nbformat": 4,
 "nbformat_minor": 5
}
